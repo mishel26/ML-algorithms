{
 "cells": [
  {
   "cell_type": "code",
   "execution_count": 2,
   "id": "85e809eb",
   "metadata": {},
   "outputs": [
    {
     "ename": "NameError",
     "evalue": "name 'secs_per_min' is not defined",
     "output_type": "error",
     "traceback": [
      "\u001b[0;31m---------------------------------------------------------------------------\u001b[0m",
      "\u001b[0;31mNameError\u001b[0m                                 Traceback (most recent call last)",
      "Cell \u001b[0;32mIn[2], line 1\u001b[0m\n\u001b[0;32m----> 1\u001b[0m \u001b[38;5;28mprint\u001b[39m(secs_per_min)\n",
      "\u001b[0;31mNameError\u001b[0m: name 'secs_per_min' is not defined"
     ]
    }
   ],
   "source": [
    "print(secs_per_min)"
   ]
  },
  {
   "cell_type": "code",
   "execution_count": null,
   "id": "b512cb53",
   "metadata": {},
   "outputs": [],
   "source": [
    "#To create a list, you use the square brackets and add elements into it accordingly.\n",
    "#If you do not pass any elements inside the square brackets, you get an empty list as the output.\n",
    "#The append() function adds all the elements passed to it as a single element.\n",
    "#The extend() function adds the elements one-by-one into the list.\n",
    "#The insert() function adds the element passed to the index value and increase the size of the list too.\n",
    "#To delete elements, use the del keyword which is built-in into Python but this does not return anything back to us.\n",
    "#If you want the element back, you use the pop() function which takes the index value.\n",
    "#To remove an element by its value, you use the remove() function.\n"
   ]
  },
  {
   "cell_type": "code",
   "execution_count": 125,
   "id": "c2001188",
   "metadata": {},
   "outputs": [
    {
     "name": "stdout",
     "output_type": "stream",
     "text": [
      "example\n",
      "[1, 2, 3, 'example', 3.132, 10, 30, 1]\n",
      "['example', 1, 30, 10, 3.132, 'example', 3, 2, 1]\n",
      "[1, 2, 3, 'example', 3.132, 10, 30, 1, 'example']\n",
      "[1, 2, 3, 'example', 3.132, 10, 30, 1, 'example']\n",
      "[1, 2, 3, 'example', 3.132, 10, 30, 1, 'example', 'hello']\n",
      "['welcome', 1, 2, 3, 'example', 3.132, 10, 30, 1, 'example', 'hello']\n",
      "['welcome', 1, 2, 3, 'example', 3.132, 10, 30, 1, 'example', 'hello', ['hey', 'buddy']]\n",
      "['welcome', 1, 2, 3, 'example', 3.132, 10, 30, 1, 'example', 'hello', ['hey', 'buddy'], 'bi', 'buddy']\n"
     ]
    }
   ],
   "source": [
    "my_list = [1, 2, 3, 'example', 3.132, 10, 30,1,'example']\n",
    "print(my_list[-1])\n",
    "print(my_list[:-1])\n",
    "print(my_list[::-1])\n",
    "print(my_list[:])\n",
    "print(my_list)\n",
    "my_list.append('hello')\n",
    "print(my_list)\n",
    "my_list.insert(0,'welcome')\n",
    "print(my_list)\n",
    "my_list.append(['hey','buddy'])\n",
    "print(my_list)\n",
    "my_list.extend(['bi','buddy'])\n",
    "print(my_list)"
   ]
  },
  {
   "cell_type": "code",
   "execution_count": 23,
   "id": "97996b93",
   "metadata": {},
   "outputs": [
    {
     "name": "stdout",
     "output_type": "stream",
     "text": [
      "['Hey', 'today', 'I', 'started', 'python', 'course.', 'looking', 'forward', 'to', 'dive', 'in', 'deep.']\n"
     ]
    }
   ],
   "source": [
    "a = 'Hey today I started python course. looking forward to dive in deep.'\n",
    "list1 = a.split(\" \")\n",
    "print(list1)"
   ]
  },
  {
   "cell_type": "code",
   "execution_count": 25,
   "id": "6c09df78",
   "metadata": {},
   "outputs": [],
   "source": [
    "del list "
   ]
  },
  {
   "cell_type": "code",
   "execution_count": 29,
   "id": "7d0fee72",
   "metadata": {},
   "outputs": [],
   "source": [
    "list2=list()"
   ]
  },
  {
   "cell_type": "code",
   "execution_count": 30,
   "id": "040c7126",
   "metadata": {},
   "outputs": [
    {
     "data": {
      "text/plain": [
       "[]"
      ]
     },
     "execution_count": 30,
     "metadata": {},
     "output_type": "execute_result"
    }
   ],
   "source": [
    "list2"
   ]
  },
  {
   "cell_type": "code",
   "execution_count": 31,
   "id": "aa3f4e4a",
   "metadata": {},
   "outputs": [
    {
     "ename": "SyntaxError",
     "evalue": "invalid syntax (1256419041.py, line 1)",
     "output_type": "error",
     "traceback": [
      "\u001b[0;36m  Cell \u001b[0;32mIn[31], line 1\u001b[0;36m\u001b[0m\n\u001b[0;31m    Dictionaries are used to store key-value pairs. To understand better, think of a phone directory where hundreds and thousands of names and their corresponding numbers have been added. Now the constant values here are Name and the Phone Numbers which are called as the keys. And the various names and phone numbers are the values that have been fed to the keys. If you access the values of the keys, you will obtain all the names and phone numbers. So that is what a key-value pair is. And in Python, this structure is stored using Dictionaries. Let us understand this better with an example program.\u001b[0m\n\u001b[0m                 ^\u001b[0m\n\u001b[0;31mSyntaxError\u001b[0m\u001b[0;31m:\u001b[0m invalid syntax\n"
     ]
    }
   ],
   "source": [
    "# Dictionaries are used to store key-value pairs. \n",
    "# To understand better, think of a phone directory where hundreds and thousands of names and their corresponding numbers have been added.\n",
    "# Now the constant values here are Name and the Phone Numbers which are called as the keys. \n",
    "# And the various names and phone numbers are the values that have been fed to the keys. \n",
    "# If you access the values of the keys, you will obtain all the names and phone numbers.\n",
    "# So that is what a key-value pair is. And in Python, this structure is stored using Dictionaries. \n",
    "# Let us understand this better with an example program."
   ]
  },
  {
   "cell_type": "code",
   "execution_count": 90,
   "id": "6dca1cbc",
   "metadata": {},
   "outputs": [
    {
     "name": "stdout",
     "output_type": "stream",
     "text": [
      "{}\n",
      "{}\n",
      "{1: 'hellow', 2: 'world'}\n",
      "{1: 'Python', 2: 'Java'}\n",
      "{1: 'Python', 2: 'Java', 3: 'Node'}\n"
     ]
    }
   ],
   "source": [
    "my_dict = {} #empty dictionary\n",
    "print(my_dict)\n",
    "my_dict1 = dict()\n",
    "print(my_dict1)\n",
    "my_dict = {1: 'Python', 2: 'Java'} #dictionary with elements\n",
    "my_dict1 = {1:'hello',2:'world'}\n",
    "my_dict1[1]=my_dict1[1].join(('','w'))\n",
    "print(my_dict1)\n",
    "print(my_dict)\n",
    "my_dict[3]='Node'\n",
    "print(my_dict)"
   ]
  },
  {
   "cell_type": "code",
   "execution_count": 76,
   "id": "549a9687",
   "metadata": {},
   "outputs": [
    {
     "name": "stdout",
     "output_type": "stream",
     "text": [
      "hello \n",
      "world\n",
      "I am finally here\n",
      "world\n"
     ]
    }
   ],
   "source": [
    "print('hello \\nworld\\nI am finally here')\n",
    "print('world')"
   ]
  },
  {
   "cell_type": "code",
   "execution_count": 93,
   "id": "17252987",
   "metadata": {},
   "outputs": [
    {
     "name": "stdout",
     "output_type": "stream",
     "text": [
      "dict_keys([1, 2])\n",
      "<class 'dict_keys'>\n",
      "dict_values(['Python', 'Java'])\n",
      "<class 'dict_values'>\n",
      "dict_items([(1, 'Python'), (2, 'Java')])\n",
      "<class 'dict_items'>\n",
      "Python\n",
      "hellow\n",
      "{1: 'Python', 2: 'Java'}\n",
      "{2: 'Java'}\n"
     ]
    }
   ],
   "source": [
    "list1 = my_dict.keys()\n",
    "print(list1)\n",
    "print(type(list1))\n",
    "list2 = my_dict.values()\n",
    "print(list2)\n",
    "print(type(list2))\n",
    "list3 = my_dict.items()\n",
    "print(list3)\n",
    "print(type(list3))\n",
    "print(my_dict[1])\n",
    "print(my_dict1.get(1))\n",
    "\n",
    "print(my_dict)\n",
    "my_dict.pop(1)\n",
    "print(my_dict)"
   ]
  },
  {
   "cell_type": "code",
   "execution_count": 94,
   "id": "e13f0483",
   "metadata": {},
   "outputs": [],
   "source": [
    "# Tuples are the same as lists are\n",
    "# with the exception that the data once entered into the tuple cannot be changed no matter what. \n",
    "# The only exception is when the data inside the tuple is mutable, only then the tuple data can be changed. \n",
    "# The example program will help you understand better."
   ]
  },
  {
   "cell_type": "code",
   "execution_count": 105,
   "id": "53574d36",
   "metadata": {},
   "outputs": [
    {
     "data": {
      "text/plain": [
       "tuple"
      ]
     },
     "execution_count": 105,
     "metadata": {},
     "output_type": "execute_result"
    }
   ],
   "source": [
    "tuple1 = tuple()\n",
    "type(tuple1)"
   ]
  },
  {
   "cell_type": "code",
   "execution_count": 107,
   "id": "8d5f9e86",
   "metadata": {},
   "outputs": [
    {
     "data": {
      "text/plain": [
       "(4, 5)"
      ]
     },
     "execution_count": 107,
     "metadata": {},
     "output_type": "execute_result"
    }
   ],
   "source": [
    "tuple1+(4,5)\n",
    "tuple1"
   ]
  },
  {
   "cell_type": "code",
   "execution_count": 108,
   "id": "0541af03",
   "metadata": {},
   "outputs": [
    {
     "data": {
      "text/plain": [
       "5"
      ]
     },
     "execution_count": 108,
     "metadata": {},
     "output_type": "execute_result"
    }
   ],
   "source": [
    "tuple1[1]"
   ]
  },
  {
   "cell_type": "code",
   "execution_count": 111,
   "id": "23220eeb",
   "metadata": {},
   "outputs": [
    {
     "name": "stdout",
     "output_type": "stream",
     "text": [
      "(1, 2, 3, 4, 5, 6)\n",
      "(1, 2, 3, ['english', 'python'])\n",
      "1\n",
      "3\n"
     ]
    }
   ],
   "source": [
    "my_tuple = (1, 2, 3)\n",
    "my_tuple = my_tuple + (4, 5, 6) #add elements\n",
    "print(my_tuple)\n",
    "\n",
    "my_tuple1 = (1, 2, 3, ['hindi', 'python'])\n",
    "my_tuple1[3][0] = 'english'\n",
    "print(my_tuple1)\n",
    "print(my_tuple1.count(2))\n",
    "print(my_tuple1.index(['english', 'python']))\n"
   ]
  },
  {
   "cell_type": "code",
   "execution_count": 114,
   "id": "d0ca3aad",
   "metadata": {},
   "outputs": [
    {
     "name": "stdout",
     "output_type": "stream",
     "text": [
      "1\n",
      "2\n",
      "3\n",
      "edureka\n",
      "(1, 2, 3, 'edureka')\n",
      "1\n",
      "(1, 2, 3, 'edureka')\n",
      "e\n"
     ]
    }
   ],
   "source": [
    "my_tuple2 = (1, 2, 3, 'edureka') #access elements\n",
    "for x in my_tuple2:\n",
    "    print(x)\n",
    "print(my_tuple2)\n",
    "print(my_tuple2[0])\n",
    "print(my_tuple2[:])\n",
    "print(my_tuple2[3][4])"
   ]
  },
  {
   "cell_type": "code",
   "execution_count": 117,
   "id": "42acf25f",
   "metadata": {},
   "outputs": [
    {
     "name": "stdout",
     "output_type": "stream",
     "text": [
      "hjkkkjkj\n",
      "4578298288\n",
      "hjcccjcj\n",
      "4579895472\n"
     ]
    }
   ],
   "source": [
    "g = 'hjkkkjkj'\n",
    "print(g)\n",
    "print(id(g))\n",
    "g=g.replace('k','c')\n",
    "print(g)\n",
    "print(id(g))"
   ]
  },
  {
   "cell_type": "code",
   "execution_count": 120,
   "id": "b74a258a",
   "metadata": {},
   "outputs": [
    {
     "name": "stdout",
     "output_type": "stream",
     "text": [
      "(4, 56, 6, 64, [3, 89])\n",
      "4580889744\n",
      "(4, 56, 6, 64, [90, 89])\n",
      "4580889744\n"
     ]
    }
   ],
   "source": [
    "list1 = (4,56,6,64,[3,89])\n",
    "print(list1)\n",
    "print(id(list1))\n",
    "list1[4][0]=90\n",
    "print(list1)\n",
    "print(id(list1))"
   ]
  },
  {
   "cell_type": "code",
   "execution_count": 122,
   "id": "e6849508",
   "metadata": {},
   "outputs": [],
   "source": [
    "# Sets are a collection of unordered elements that are unique.\n",
    "# Meaning that even if the data is repeated more than one time, \n",
    "# it would be entered into the set only once.\n",
    "# It resembles the sets that you have learnt in arithmetic.\n",
    "# The operations also are the same as is with the arithmetic sets. \n",
    "# An example program would help you understand better."
   ]
  },
  {
   "cell_type": "code",
   "execution_count": 124,
   "id": "1617d4e0",
   "metadata": {},
   "outputs": [
    {
     "ename": "NameError",
     "evalue": "name 'least_difference' is not defined",
     "output_type": "error",
     "traceback": [
      "\u001b[0;31m---------------------------------------------------------------------------\u001b[0m",
      "\u001b[0;31mNameError\u001b[0m                                 Traceback (most recent call last)",
      "Cell \u001b[0;32mIn[124], line 1\u001b[0m\n\u001b[0;32m----> 1\u001b[0m least_difference(\u001b[38;5;241m7\u001b[39m,\u001b[38;5;241m9\u001b[39m,\u001b[38;5;241m15\u001b[39m)\n",
      "\u001b[0;31mNameError\u001b[0m: name 'least_difference' is not defined"
     ]
    }
   ],
   "source": [
    "least_difference(7,9,15)"
   ]
  },
  {
   "cell_type": "code",
   "execution_count": 131,
   "id": "0e8f8d1a",
   "metadata": {},
   "outputs": [
    {
     "name": "stdout",
     "output_type": "stream",
     "text": [
      "11.5\n"
     ]
    }
   ],
   "source": [
    "l1=[1,2,3,4,12,3,5,7,1,1,2,5,6,7,12,3,4,1,2,7,8,9,9]\n",
    "print(len(l1)/2)"
   ]
  },
  {
   "cell_type": "code",
   "execution_count": 127,
   "id": "1bddc22e",
   "metadata": {},
   "outputs": [
    {
     "name": "stdout",
     "output_type": "stream",
     "text": [
      "<generator object <genexpr> at 0x110492c20>\n"
     ]
    }
   ],
   "source": [
    "print(i for i in l1)"
   ]
  },
  {
   "cell_type": "code",
   "execution_count": 137,
   "id": "8837b610",
   "metadata": {},
   "outputs": [
    {
     "name": "stdout",
     "output_type": "stream",
     "text": [
      "[4, 12, 12, 4, 8]\n"
     ]
    }
   ],
   "source": [
    "print([i for i in l1 if not i%4])"
   ]
  },
  {
   "cell_type": "code",
   "execution_count": 138,
   "id": "c450bc88",
   "metadata": {},
   "outputs": [
    {
     "name": "stdout",
     "output_type": "stream",
     "text": [
      "Help on built-in function any in module builtins:\n",
      "\n",
      "any(iterable, /)\n",
      "    Return True if bool(x) is True for any x in the iterable.\n",
      "    \n",
      "    If the iterable is empty, return False.\n",
      "\n"
     ]
    }
   ],
   "source": [
    "help(any)"
   ]
  },
  {
   "cell_type": "code",
   "execution_count": 139,
   "id": "7caf3951",
   "metadata": {},
   "outputs": [
    {
     "name": "stdout",
     "output_type": "stream",
     "text": [
      "hello\n",
      "world\n"
     ]
    }
   ],
   "source": [
    "triplequoted_hello = \"\"\"hello\n",
    "world\"\"\"\n",
    "print(triplequoted_hello)"
   ]
  },
  {
   "cell_type": "code",
   "execution_count": 2,
   "id": "1695edd6",
   "metadata": {},
   "outputs": [
    {
     "ename": "NameError",
     "evalue": "name 'planet' is not defined",
     "output_type": "error",
     "traceback": [
      "\u001b[0;31m---------------------------------------------------------------------------\u001b[0m",
      "\u001b[0;31mNameError\u001b[0m                                 Traceback (most recent call last)",
      "Cell \u001b[0;32mIn[2], line 2\u001b[0m\n\u001b[1;32m      1\u001b[0m claim \u001b[38;5;241m=\u001b[39m \u001b[38;5;124m\"\u001b[39m\u001b[38;5;124mPluto is a planet!\u001b[39m\u001b[38;5;124m\"\u001b[39m\n\u001b[0;32m----> 2\u001b[0m claim\u001b[38;5;241m.\u001b[39mstartswith(planet)\n",
      "\u001b[0;31mNameError\u001b[0m: name 'planet' is not defined"
     ]
    }
   ],
   "source": [
    "claim = \"Pluto is a planet!\"\n",
    "claim.startswith(planet)"
   ]
  },
  {
   "cell_type": "code",
   "execution_count": null,
   "id": "68370df5",
   "metadata": {},
   "outputs": [],
   "source": []
  }
 ],
 "metadata": {
  "kernelspec": {
   "display_name": "Python 3 (ipykernel)",
   "language": "python",
   "name": "python3"
  },
  "language_info": {
   "codemirror_mode": {
    "name": "ipython",
    "version": 3
   },
   "file_extension": ".py",
   "mimetype": "text/x-python",
   "name": "python",
   "nbconvert_exporter": "python",
   "pygments_lexer": "ipython3",
   "version": "3.11.5"
  }
 },
 "nbformat": 4,
 "nbformat_minor": 5
}
